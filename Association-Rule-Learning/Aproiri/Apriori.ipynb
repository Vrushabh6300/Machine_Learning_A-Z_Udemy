{
  "nbformat": 4,
  "nbformat_minor": 0,
  "metadata": {
    "colab": {
      "name": "Apriori.ipynb",
      "provenance": []
    },
    "kernelspec": {
      "name": "python3",
      "display_name": "Python 3"
    },
    "language_info": {
      "name": "python"
    }
  },
  "cells": [
    {
      "cell_type": "markdown",
      "metadata": {
        "id": "pKTOuMq4qTCT"
      },
      "source": [
        "## Association Rule Learning - Apriori"
      ]
    },
    {
      "cell_type": "markdown",
      "metadata": {
        "id": "BQGyqMrAqS_B"
      },
      "source": [
        "### Importning the Libraries"
      ]
    },
    {
      "cell_type": "code",
      "metadata": {
        "colab": {
          "base_uri": "https://localhost:8080/"
        },
        "id": "nfyA2IqxrfyX",
        "outputId": "2329ac4d-0f67-4ace-da14-42e17bf430f9"
      },
      "source": [
        "!pip install apyori"
      ],
      "execution_count": 1,
      "outputs": [
        {
          "output_type": "stream",
          "name": "stdout",
          "text": [
            "Requirement already satisfied: apyori in /usr/local/lib/python3.7/dist-packages (1.1.2)\n"
          ]
        }
      ]
    },
    {
      "cell_type": "code",
      "metadata": {
        "id": "JUFjzZzupp0Q"
      },
      "source": [
        "import numpy as np\n",
        "import pandas as pd\n",
        "import matplotlib.pyplot as plt"
      ],
      "execution_count": 2,
      "outputs": []
    },
    {
      "cell_type": "markdown",
      "metadata": {
        "id": "QGxoz7tUqbor"
      },
      "source": [
        "### Data preprocessing"
      ]
    },
    {
      "cell_type": "code",
      "metadata": {
        "id": "zjgl4eE9qdgc"
      },
      "source": [
        "dataset = pd.read_csv('Market_Basket_Optimisation.csv', header = None)\n",
        "transactions = []\n",
        "for i in range(0, 7501):\n",
        "  transactions.append([str(dataset.values[i, j]) for j in range(0, 20)])"
      ],
      "execution_count": 3,
      "outputs": []
    },
    {
      "cell_type": "markdown",
      "metadata": {
        "id": "m8FsMwSqqpHH"
      },
      "source": [
        "### Training the Apriori model on the dataset"
      ]
    },
    {
      "cell_type": "code",
      "metadata": {
        "id": "EKxQ6iBSqugn"
      },
      "source": [
        "from apyori import apriori\n",
        "rules = apriori(transactions = transactions, min_support = 0.003, min_confidence = 0.2, min_lift = 3, min_length = 2, max_length = 2)"
      ],
      "execution_count": 4,
      "outputs": []
    },
    {
      "cell_type": "markdown",
      "metadata": {
        "id": "okUF2jIVqvL7"
      },
      "source": [
        "### Visualising the results"
      ]
    },
    {
      "cell_type": "markdown",
      "metadata": {
        "id": "Qbs1qzbaxDIo"
      },
      "source": [
        "#### Displaying the first results coming directly from the ouput of the Apriori function"
      ]
    },
    {
      "cell_type": "code",
      "metadata": {
        "colab": {
          "base_uri": "https://localhost:8080/"
        },
        "id": "maIl8ZxEqzIs",
        "outputId": "75ccb09b-89a4-4c3e-ab66-b50cf90693df"
      },
      "source": [
        "results = list(rules)\n",
        "results"
      ],
      "execution_count": 5,
      "outputs": [
        {
          "output_type": "execute_result",
          "data": {
            "text/plain": [
              "[RelationRecord(items=frozenset({'light cream', 'chicken'}), support=0.004532728969470737, ordered_statistics=[OrderedStatistic(items_base=frozenset({'light cream'}), items_add=frozenset({'chicken'}), confidence=0.29059829059829057, lift=4.84395061728395)]),\n",
              " RelationRecord(items=frozenset({'mushroom cream sauce', 'escalope'}), support=0.005732568990801226, ordered_statistics=[OrderedStatistic(items_base=frozenset({'mushroom cream sauce'}), items_add=frozenset({'escalope'}), confidence=0.3006993006993007, lift=3.790832696715049)]),\n",
              " RelationRecord(items=frozenset({'escalope', 'pasta'}), support=0.005865884548726837, ordered_statistics=[OrderedStatistic(items_base=frozenset({'pasta'}), items_add=frozenset({'escalope'}), confidence=0.3728813559322034, lift=4.700811850163794)]),\n",
              " RelationRecord(items=frozenset({'fromage blanc', 'honey'}), support=0.003332888948140248, ordered_statistics=[OrderedStatistic(items_base=frozenset({'fromage blanc'}), items_add=frozenset({'honey'}), confidence=0.2450980392156863, lift=5.164270764485569)]),\n",
              " RelationRecord(items=frozenset({'herb & pepper', 'ground beef'}), support=0.015997866951073192, ordered_statistics=[OrderedStatistic(items_base=frozenset({'herb & pepper'}), items_add=frozenset({'ground beef'}), confidence=0.3234501347708895, lift=3.2919938411349285)]),\n",
              " RelationRecord(items=frozenset({'ground beef', 'tomato sauce'}), support=0.005332622317024397, ordered_statistics=[OrderedStatistic(items_base=frozenset({'tomato sauce'}), items_add=frozenset({'ground beef'}), confidence=0.3773584905660377, lift=3.840659481324083)]),\n",
              " RelationRecord(items=frozenset({'light cream', 'olive oil'}), support=0.003199573390214638, ordered_statistics=[OrderedStatistic(items_base=frozenset({'light cream'}), items_add=frozenset({'olive oil'}), confidence=0.20512820512820515, lift=3.1147098515519573)]),\n",
              " RelationRecord(items=frozenset({'whole wheat pasta', 'olive oil'}), support=0.007998933475536596, ordered_statistics=[OrderedStatistic(items_base=frozenset({'whole wheat pasta'}), items_add=frozenset({'olive oil'}), confidence=0.2714932126696833, lift=4.122410097642296)]),\n",
              " RelationRecord(items=frozenset({'shrimp', 'pasta'}), support=0.005065991201173177, ordered_statistics=[OrderedStatistic(items_base=frozenset({'pasta'}), items_add=frozenset({'shrimp'}), confidence=0.3220338983050847, lift=4.506672147735896)])]"
            ]
          },
          "metadata": {},
          "execution_count": 5
        }
      ]
    },
    {
      "cell_type": "markdown",
      "metadata": {
        "id": "BGaPQDdcyWiL"
      },
      "source": [
        "#### Putting the results well organised into a Pandas DataFrame"
      ]
    },
    {
      "cell_type": "code",
      "metadata": {
        "id": "eZ_qp_VPvaa6"
      },
      "source": [
        "def inspect(results):\n",
        "  lhs = [tuple(result[2][0][0])[0] for result in results]\n",
        "  rhs = [tuple(result[2][0][1])[0] for result in results]\n",
        "  supports = [result[1] for result in results]\n",
        "  confidences = [result[2][0][2] for result in results]\n",
        "  lifts = [result[2][0][3] for result in results]\n",
        "\n",
        "  return list(zip(lhs, rhs, supports, confidences, lifts))\n",
        "\n",
        "resultinDataFrame = pd.DataFrame(inspect(results), columns = ['Left hand side', 'Right hand side', 'Support', 'Confidence', 'Lift'])"
      ],
      "execution_count": 8,
      "outputs": []
    },
    {
      "cell_type": "code",
      "metadata": {
        "colab": {
          "base_uri": "https://localhost:8080/",
          "height": 331
        },
        "id": "x-Og1I9Dzrny",
        "outputId": "ba2f5d45-449a-4b4c-a025-3e4cf079f079"
      },
      "source": [
        "resultinDataFrame"
      ],
      "execution_count": 9,
      "outputs": [
        {
          "output_type": "execute_result",
          "data": {
            "text/html": [
              "<div>\n",
              "<style scoped>\n",
              "    .dataframe tbody tr th:only-of-type {\n",
              "        vertical-align: middle;\n",
              "    }\n",
              "\n",
              "    .dataframe tbody tr th {\n",
              "        vertical-align: top;\n",
              "    }\n",
              "\n",
              "    .dataframe thead th {\n",
              "        text-align: right;\n",
              "    }\n",
              "</style>\n",
              "<table border=\"1\" class=\"dataframe\">\n",
              "  <thead>\n",
              "    <tr style=\"text-align: right;\">\n",
              "      <th></th>\n",
              "      <th>Left hand side</th>\n",
              "      <th>Right hand side</th>\n",
              "      <th>Support</th>\n",
              "      <th>Confidence</th>\n",
              "      <th>Lift</th>\n",
              "    </tr>\n",
              "  </thead>\n",
              "  <tbody>\n",
              "    <tr>\n",
              "      <th>0</th>\n",
              "      <td>light cream</td>\n",
              "      <td>chicken</td>\n",
              "      <td>0.004533</td>\n",
              "      <td>0.290598</td>\n",
              "      <td>4.843951</td>\n",
              "    </tr>\n",
              "    <tr>\n",
              "      <th>1</th>\n",
              "      <td>mushroom cream sauce</td>\n",
              "      <td>escalope</td>\n",
              "      <td>0.005733</td>\n",
              "      <td>0.300699</td>\n",
              "      <td>3.790833</td>\n",
              "    </tr>\n",
              "    <tr>\n",
              "      <th>2</th>\n",
              "      <td>pasta</td>\n",
              "      <td>escalope</td>\n",
              "      <td>0.005866</td>\n",
              "      <td>0.372881</td>\n",
              "      <td>4.700812</td>\n",
              "    </tr>\n",
              "    <tr>\n",
              "      <th>3</th>\n",
              "      <td>fromage blanc</td>\n",
              "      <td>honey</td>\n",
              "      <td>0.003333</td>\n",
              "      <td>0.245098</td>\n",
              "      <td>5.164271</td>\n",
              "    </tr>\n",
              "    <tr>\n",
              "      <th>4</th>\n",
              "      <td>herb &amp; pepper</td>\n",
              "      <td>ground beef</td>\n",
              "      <td>0.015998</td>\n",
              "      <td>0.323450</td>\n",
              "      <td>3.291994</td>\n",
              "    </tr>\n",
              "    <tr>\n",
              "      <th>5</th>\n",
              "      <td>tomato sauce</td>\n",
              "      <td>ground beef</td>\n",
              "      <td>0.005333</td>\n",
              "      <td>0.377358</td>\n",
              "      <td>3.840659</td>\n",
              "    </tr>\n",
              "    <tr>\n",
              "      <th>6</th>\n",
              "      <td>light cream</td>\n",
              "      <td>olive oil</td>\n",
              "      <td>0.003200</td>\n",
              "      <td>0.205128</td>\n",
              "      <td>3.114710</td>\n",
              "    </tr>\n",
              "    <tr>\n",
              "      <th>7</th>\n",
              "      <td>whole wheat pasta</td>\n",
              "      <td>olive oil</td>\n",
              "      <td>0.007999</td>\n",
              "      <td>0.271493</td>\n",
              "      <td>4.122410</td>\n",
              "    </tr>\n",
              "    <tr>\n",
              "      <th>8</th>\n",
              "      <td>pasta</td>\n",
              "      <td>shrimp</td>\n",
              "      <td>0.005066</td>\n",
              "      <td>0.322034</td>\n",
              "      <td>4.506672</td>\n",
              "    </tr>\n",
              "  </tbody>\n",
              "</table>\n",
              "</div>"
            ],
            "text/plain": [
              "         Left hand side Right hand side   Support  Confidence      Lift\n",
              "0           light cream         chicken  0.004533    0.290598  4.843951\n",
              "1  mushroom cream sauce        escalope  0.005733    0.300699  3.790833\n",
              "2                 pasta        escalope  0.005866    0.372881  4.700812\n",
              "3         fromage blanc           honey  0.003333    0.245098  5.164271\n",
              "4         herb & pepper     ground beef  0.015998    0.323450  3.291994\n",
              "5          tomato sauce     ground beef  0.005333    0.377358  3.840659\n",
              "6           light cream       olive oil  0.003200    0.205128  3.114710\n",
              "7     whole wheat pasta       olive oil  0.007999    0.271493  4.122410\n",
              "8                 pasta          shrimp  0.005066    0.322034  4.506672"
            ]
          },
          "metadata": {},
          "execution_count": 9
        }
      ]
    },
    {
      "cell_type": "markdown",
      "metadata": {
        "id": "IfXZofUF2O1V"
      },
      "source": [
        "#### Displaying the results sorted by decreasing lifts"
      ]
    },
    {
      "cell_type": "code",
      "metadata": {
        "colab": {
          "base_uri": "https://localhost:8080/",
          "height": 331
        },
        "id": "QTdcIgZRz1Ri",
        "outputId": "8806c007-2281-4b09-a12c-6a90d204851c"
      },
      "source": [
        "resultinDataFrame.nlargest(n = 10, columns = 'Lift')"
      ],
      "execution_count": 10,
      "outputs": [
        {
          "output_type": "execute_result",
          "data": {
            "text/html": [
              "<div>\n",
              "<style scoped>\n",
              "    .dataframe tbody tr th:only-of-type {\n",
              "        vertical-align: middle;\n",
              "    }\n",
              "\n",
              "    .dataframe tbody tr th {\n",
              "        vertical-align: top;\n",
              "    }\n",
              "\n",
              "    .dataframe thead th {\n",
              "        text-align: right;\n",
              "    }\n",
              "</style>\n",
              "<table border=\"1\" class=\"dataframe\">\n",
              "  <thead>\n",
              "    <tr style=\"text-align: right;\">\n",
              "      <th></th>\n",
              "      <th>Left hand side</th>\n",
              "      <th>Right hand side</th>\n",
              "      <th>Support</th>\n",
              "      <th>Confidence</th>\n",
              "      <th>Lift</th>\n",
              "    </tr>\n",
              "  </thead>\n",
              "  <tbody>\n",
              "    <tr>\n",
              "      <th>3</th>\n",
              "      <td>fromage blanc</td>\n",
              "      <td>honey</td>\n",
              "      <td>0.003333</td>\n",
              "      <td>0.245098</td>\n",
              "      <td>5.164271</td>\n",
              "    </tr>\n",
              "    <tr>\n",
              "      <th>0</th>\n",
              "      <td>light cream</td>\n",
              "      <td>chicken</td>\n",
              "      <td>0.004533</td>\n",
              "      <td>0.290598</td>\n",
              "      <td>4.843951</td>\n",
              "    </tr>\n",
              "    <tr>\n",
              "      <th>2</th>\n",
              "      <td>pasta</td>\n",
              "      <td>escalope</td>\n",
              "      <td>0.005866</td>\n",
              "      <td>0.372881</td>\n",
              "      <td>4.700812</td>\n",
              "    </tr>\n",
              "    <tr>\n",
              "      <th>8</th>\n",
              "      <td>pasta</td>\n",
              "      <td>shrimp</td>\n",
              "      <td>0.005066</td>\n",
              "      <td>0.322034</td>\n",
              "      <td>4.506672</td>\n",
              "    </tr>\n",
              "    <tr>\n",
              "      <th>7</th>\n",
              "      <td>whole wheat pasta</td>\n",
              "      <td>olive oil</td>\n",
              "      <td>0.007999</td>\n",
              "      <td>0.271493</td>\n",
              "      <td>4.122410</td>\n",
              "    </tr>\n",
              "    <tr>\n",
              "      <th>5</th>\n",
              "      <td>tomato sauce</td>\n",
              "      <td>ground beef</td>\n",
              "      <td>0.005333</td>\n",
              "      <td>0.377358</td>\n",
              "      <td>3.840659</td>\n",
              "    </tr>\n",
              "    <tr>\n",
              "      <th>1</th>\n",
              "      <td>mushroom cream sauce</td>\n",
              "      <td>escalope</td>\n",
              "      <td>0.005733</td>\n",
              "      <td>0.300699</td>\n",
              "      <td>3.790833</td>\n",
              "    </tr>\n",
              "    <tr>\n",
              "      <th>4</th>\n",
              "      <td>herb &amp; pepper</td>\n",
              "      <td>ground beef</td>\n",
              "      <td>0.015998</td>\n",
              "      <td>0.323450</td>\n",
              "      <td>3.291994</td>\n",
              "    </tr>\n",
              "    <tr>\n",
              "      <th>6</th>\n",
              "      <td>light cream</td>\n",
              "      <td>olive oil</td>\n",
              "      <td>0.003200</td>\n",
              "      <td>0.205128</td>\n",
              "      <td>3.114710</td>\n",
              "    </tr>\n",
              "  </tbody>\n",
              "</table>\n",
              "</div>"
            ],
            "text/plain": [
              "         Left hand side Right hand side   Support  Confidence      Lift\n",
              "3         fromage blanc           honey  0.003333    0.245098  5.164271\n",
              "0           light cream         chicken  0.004533    0.290598  4.843951\n",
              "2                 pasta        escalope  0.005866    0.372881  4.700812\n",
              "8                 pasta          shrimp  0.005066    0.322034  4.506672\n",
              "7     whole wheat pasta       olive oil  0.007999    0.271493  4.122410\n",
              "5          tomato sauce     ground beef  0.005333    0.377358  3.840659\n",
              "1  mushroom cream sauce        escalope  0.005733    0.300699  3.790833\n",
              "4         herb & pepper     ground beef  0.015998    0.323450  3.291994\n",
              "6           light cream       olive oil  0.003200    0.205128  3.114710"
            ]
          },
          "metadata": {},
          "execution_count": 10
        }
      ]
    }
  ]
}